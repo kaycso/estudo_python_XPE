{
  "cells": [
    {
      "cell_type": "markdown",
      "metadata": {
        "id": "KxDUAb2KgluS"
      },
      "source": [
        "# Numpy"
      ]
    },
    {
      "cell_type": "markdown",
      "metadata": {
        "id": "mp_Zt9pggpUi"
      },
      "source": [
        "## criando arrays com Numpy"
      ]
    },
    {
      "cell_type": "code",
      "execution_count": 10,
      "metadata": {},
      "outputs": [
        {
          "name": "stdout",
          "output_type": "stream",
          "text": [
            "Requirement already satisfied: numpy in c:\\users\\kayc.oliveira\\appdata\\local\\programs\\python\\python312\\lib\\site-packages (1.26.4)\n",
            "Note: you may need to restart the kernel to use updated packages.\n"
          ]
        },
        {
          "name": "stderr",
          "output_type": "stream",
          "text": [
            "\n",
            "[notice] A new release of pip is available: 24.0 -> 24.2\n",
            "[notice] To update, run: python.exe -m pip install --upgrade pip\n"
          ]
        }
      ],
      "source": [
        "pip install numpy"
      ]
    },
    {
      "cell_type": "code",
      "execution_count": 12,
      "metadata": {
        "id": "FVYxyIsZVJzr"
      },
      "outputs": [],
      "source": [
        "import numpy as np"
      ]
    },
    {
      "cell_type": "code",
      "execution_count": 13,
      "metadata": {
        "colab": {
          "base_uri": "https://localhost:8080/"
        },
        "id": "risuJI6dkko_",
        "outputId": "b8debe54-9c85-4bb8-a000-13759e7e1349"
      },
      "outputs": [
        {
          "data": {
            "text/plain": [
              "array([ 10.,  20.,  30.,  40.,  50.,  60.,  70.,  80.,  90., 100.])"
            ]
          },
          "execution_count": 13,
          "metadata": {},
          "output_type": "execute_result"
        }
      ],
      "source": [
        "# criar um array com 10 elemento\n",
        "my_array_1d = np.linspace(10, 100, 10)\n",
        "my_array_1d"
      ]
    },
    {
      "cell_type": "code",
      "execution_count": 14,
      "metadata": {
        "colab": {
          "base_uri": "https://localhost:8080/"
        },
        "id": "NqrYJGJwk9Ij",
        "outputId": "ad664c68-4b97-42f2-a160-98c6b764d590"
      },
      "outputs": [
        {
          "name": "stdout",
          "output_type": "stream",
          "text": [
            "ultimo elemento: 100.0\n",
            "antepenultimo ao ultimo elementoo: [ 80.  90. 100.]\n",
            "primeiro ao quinto elemento: [10. 20. 30. 40. 50.]\n"
          ]
        }
      ],
      "source": [
        "# acessar o ultimo elemento\n",
        "print('ultimo elemento:', my_array_1d[-1])\n",
        "\n",
        "# acessar do antepenultimo ao ultimo\n",
        "print('antepenultimo ao ultimo elementoo:', my_array_1d[-3:])\n",
        "\n",
        "# acessar o do primeiro ao 5° elemento (índice 4)\n",
        "print('primeiro ao quinto elemento:', my_array_1d[:5])"
      ]
    },
    {
      "cell_type": "code",
      "execution_count": null,
      "metadata": {
        "id": "VRbfteaamFuC"
      },
      "outputs": [],
      "source": [
        "np.linspace"
      ]
    },
    {
      "cell_type": "code",
      "execution_count": null,
      "metadata": {
        "colab": {
          "base_uri": "https://localhost:8080/"
        },
        "id": "URnb_py8l5ve",
        "outputId": "7e1d8391-c725-4f6c-bccb-4b406405eb9c"
      },
      "outputs": [
        {
          "data": {
            "text/plain": [
              "array([[ 10.,  20.,  30.,  40.,  50.],\n",
              "       [ 60.,  70.,  80.,  90., 100.]])"
            ]
          },
          "execution_count": 13,
          "metadata": {},
          "output_type": "execute_result"
        }
      ],
      "source": [
        "my_array_2d = np.linspace(10, 100, 10).reshape(2, 5)\n",
        "my_array_2d"
      ]
    },
    {
      "cell_type": "code",
      "execution_count": null,
      "metadata": {
        "colab": {
          "base_uri": "https://localhost:8080/"
        },
        "id": "k0Q45Hb6nB6K",
        "outputId": "37dc8dc9-93bd-4694-beff-148cdcbeaf6c"
      },
      "outputs": [
        {
          "name": "stdout",
          "output_type": "stream",
          "text": [
            "10.0\n",
            "[10. 20. 30.]\n",
            "[10. 60.]\n",
            "[[10.]\n",
            " [60.]]\n",
            "[[10. 20.]\n",
            " [60. 70.]]\n"
          ]
        }
      ],
      "source": [
        "# acessar o 1° elemento da primeira linha\n",
        "print(my_array_2d[0,0])\n",
        "\n",
        "\n",
        "# acessar o 1° e 3° elemento da primeira linha\n",
        "print(my_array_2d[0,:3])\n",
        "\n",
        "\n",
        "# acessar o 1° elemento da primeira coluna\n",
        "print(my_array_2d[:,0])\n",
        "\n",
        "\n",
        "# acessar o 1° elemento da primeira coluna formatando o resultado como uma coluna\n",
        "print(my_array_2d[:,[0]])\n",
        "\n",
        "# acessar os elementos da 1° e 2° coluna das duas linhas\n",
        "print(my_array_2d[:,:2])\n"
      ]
    },
    {
      "cell_type": "code",
      "execution_count": null,
      "metadata": {
        "colab": {
          "base_uri": "https://localhost:8080/"
        },
        "id": "BRvmMnJjuCHL",
        "outputId": "11268403-23c2-412d-ac59-66ac8da9349d"
      },
      "outputs": [
        {
          "name": "stdout",
          "output_type": "stream",
          "text": [
            "A volatilidade dos retornos é: 0.71%\n"
          ]
        }
      ],
      "source": [
        "# Dados de retornos diários de um ativo (em percentagem)\n",
        "retornos = np.array([0.5, 1.2, -0.8, 0.7, -0.1, 1.0, -0.5])\n",
        "\n",
        "# Calcular o desvio padrão dos retornos (volatilidade)\n",
        "volatilidade = np.std(retornos)\n",
        "\n",
        "print(f\"A volatilidade dos retornos é: {volatilidade:.2f}%\")"
      ]
    },
    {
      "cell_type": "markdown",
      "metadata": {
        "id": "mpykwv67gibZ"
      },
      "source": [
        "## operações aritméticas"
      ]
    },
    {
      "cell_type": "code",
      "execution_count": 23,
      "metadata": {
        "colab": {
          "base_uri": "https://localhost:8080/"
        },
        "id": "ECIOUk8fguHg",
        "outputId": "d97ba8fa-08d8-4f16-afcf-8d4198a7e3ad"
      },
      "outputs": [
        {
          "name": "stdout",
          "output_type": "stream",
          "text": [
            "array 1:\n",
            " [[1. 1.]\n",
            " [1. 1.]]\n",
            "array 2:\n",
            " [[1. 0.]\n",
            " [0. 1.]]\n"
          ]
        }
      ],
      "source": [
        "array_1 = np.ones((2,2))\n",
        "array_2 = np.eye(2)\n",
        "print('array 1:\\n', array_1)\n",
        "print('array 2:\\n', array_2)"
      ]
    },
    {
      "cell_type": "markdown",
      "metadata": {
        "id": "YPq_tPURg6Bm"
      },
      "source": [
        "### soma"
      ]
    },
    {
      "cell_type": "code",
      "execution_count": 8,
      "metadata": {
        "colab": {
          "base_uri": "https://localhost:8080/"
        },
        "id": "i16lZom_g_JI",
        "outputId": "193d45a8-1d5f-40d5-db62-d6090899a1fa"
      },
      "outputs": [
        {
          "name": "stdout",
          "output_type": "stream",
          "text": [
            "soma array 1 e 2:\n",
            " [[2. 1.]\n",
            " [1. 2.]]\n",
            "broadcasting: somando o número 2 em todos elementos do array 1:\n",
            " [[3. 3.]\n",
            " [3. 3.]]\n"
          ]
        }
      ],
      "source": [
        "soma_array = array_1 + array_2\n",
        "print('soma array 1 e 2:\\n',soma_array)\n",
        "\n",
        "# soma com broadcasting aplicado no array 1\n",
        "print('broadcasting: somando o número 2 em todos elementos do array 1:\\n', array_1 + 2)"
      ]
    },
    {
      "cell_type": "markdown",
      "metadata": {
        "id": "BN2lpcUZhRLm"
      },
      "source": [
        "### Subtração"
      ]
    },
    {
      "cell_type": "code",
      "execution_count": 10,
      "metadata": {
        "colab": {
          "base_uri": "https://localhost:8080/"
        },
        "id": "HblgtdmahTtc",
        "outputId": "aa5bde32-5980-4b2b-938c-cc6a368570ba"
      },
      "outputs": [
        {
          "name": "stdout",
          "output_type": "stream",
          "text": [
            "subtração array 1 e 2:\n",
            " [[0. 1.]\n",
            " [1. 0.]]\n",
            "broadcasting: subtraindo o número 2 em todos elementos do array 1:\n",
            " [[-1. -1.]\n",
            " [-1. -1.]]\n"
          ]
        }
      ],
      "source": [
        "subtracao_array = array_1 - array_2\n",
        "print('subtração array 1 e 2:\\n', subtracao_array)\n",
        "\n",
        "# subtração com broadcasting aplicado no array 1\n",
        "print('broadcasting: subtraindo o número 2 em todos elementos do array 1:\\n', array_1 - 2)"
      ]
    },
    {
      "cell_type": "markdown",
      "metadata": {
        "id": "vLAo2GK3iIVq"
      },
      "source": [
        "### Divisão"
      ]
    },
    {
      "cell_type": "code",
      "execution_count": 11,
      "metadata": {
        "colab": {
          "base_uri": "https://localhost:8080/"
        },
        "id": "dkVrGIQBiKyy",
        "outputId": "7e5eee0b-272a-4a72-98f0-b53fc1cc89e3"
      },
      "outputs": [
        {
          "name": "stdout",
          "output_type": "stream",
          "text": [
            "subtração array 1 e 2:\n",
            " [[ 1. inf]\n",
            " [inf  1.]]\n",
            "broadcasting: dividindo o número 2 em todos elementos do array 1:\n",
            " [[0.5 0.5]\n",
            " [0.5 0.5]]\n"
          ]
        },
        {
          "name": "stderr",
          "output_type": "stream",
          "text": [
            "<ipython-input-11-87d856e33f63>:1: RuntimeWarning: divide by zero encountered in divide\n",
            "  divisao_array = array_1 / array_2\n"
          ]
        }
      ],
      "source": [
        "divisao_array = array_1 / array_2\n",
        "print('subtração array 1 e 2:\\n', divisao_array)\n",
        "\n",
        "# divisão com broadcasting aplicado no array 1\n",
        "print('broadcasting: dividindo o número 2 em todos elementos do array 1:\\n', array_1 / 2)"
      ]
    },
    {
      "cell_type": "markdown",
      "metadata": {
        "id": "cP15HrGDjHfP"
      },
      "source": [
        "### Observação do broadcasting"
      ]
    },
    {
      "cell_type": "code",
      "execution_count": 13,
      "metadata": {
        "colab": {
          "base_uri": "https://localhost:8080/",
          "height": 0
        },
        "id": "ypJgf_fKjMJu",
        "outputId": "45c2c1ac-3b54-4aea-fba3-a710d30e05d3"
      },
      "outputs": [
        {
          "ename": "ValueError",
          "evalue": "operands could not be broadcast together with shapes (3,) (2,) ",
          "output_type": "error",
          "traceback": [
            "\u001b[0;31m---------------------------------------------------------------------------\u001b[0m",
            "\u001b[0;31mValueError\u001b[0m                                Traceback (most recent call last)",
            "\u001b[0;32m<ipython-input-13-ecc96a2f4227>\u001b[0m in \u001b[0;36m<cell line: 2>\u001b[0;34m()\u001b[0m\n\u001b[1;32m      1\u001b[0m \u001b[0;31m# Quando não funciona\u001b[0m\u001b[0;34m\u001b[0m\u001b[0;34m\u001b[0m\u001b[0m\n\u001b[0;32m----> 2\u001b[0;31m \u001b[0mnp\u001b[0m\u001b[0;34m.\u001b[0m\u001b[0marray\u001b[0m\u001b[0;34m(\u001b[0m\u001b[0;34m[\u001b[0m\u001b[0;36m1\u001b[0m\u001b[0;34m,\u001b[0m \u001b[0;36m2\u001b[0m\u001b[0;34m,\u001b[0m \u001b[0;36m3\u001b[0m\u001b[0;34m]\u001b[0m\u001b[0;34m)\u001b[0m \u001b[0;34m+\u001b[0m \u001b[0mnp\u001b[0m\u001b[0;34m.\u001b[0m\u001b[0marray\u001b[0m\u001b[0;34m(\u001b[0m\u001b[0;34m[\u001b[0m\u001b[0;36m1\u001b[0m\u001b[0;34m,\u001b[0m \u001b[0;36m2\u001b[0m\u001b[0;34m]\u001b[0m\u001b[0;34m)\u001b[0m\u001b[0;34m\u001b[0m\u001b[0;34m\u001b[0m\u001b[0m\n\u001b[0m",
            "\u001b[0;31mValueError\u001b[0m: operands could not be broadcast together with shapes (3,) (2,) "
          ]
        }
      ],
      "source": [
        "# Quando não funciona\n",
        "np.array([1, 2, 3]) + np.array([1, 2]) # recebe um erro, pois o shape é inconsistente, o tamanho dos arrays são diferentes"
      ]
    },
    {
      "cell_type": "code",
      "execution_count": 14,
      "metadata": {
        "colab": {
          "base_uri": "https://localhost:8080/"
        },
        "id": "ZaaStPAvjaJd",
        "outputId": "0b1623f0-6629-4e2b-8ad3-cb7f4ac4fc4d"
      },
      "outputs": [
        {
          "name": "stdout",
          "output_type": "stream",
          "text": [
            "[1]\n"
          ]
        }
      ],
      "source": []
    },
    {
      "cell_type": "markdown",
      "metadata": {
        "id": "ymhmeBani1Vk"
      },
      "source": [
        "### Multiplicação"
      ]
    },
    {
      "cell_type": "code",
      "execution_count": 15,
      "metadata": {
        "colab": {
          "base_uri": "https://localhost:8080/"
        },
        "id": "5wdZ-o-Li5Rj",
        "outputId": "1b7059a1-ed2a-4e8e-fc71-31f15f102871"
      },
      "outputs": [
        {
          "name": "stdout",
          "output_type": "stream",
          "text": [
            "subtração array 1 e 2:\n",
            " [[1. 0.]\n",
            " [0. 1.]]\n",
            "broadcasting: dividindo o número 2 em todos elementos do array 1:\n",
            " [[2. 2.]\n",
            " [2. 2.]]\n"
          ]
        },
        {
          "data": {
            "text/plain": [
              "array([[5., 5.],\n",
              "       [5., 5.]])"
            ]
          },
          "execution_count": 15,
          "metadata": {},
          "output_type": "execute_result"
        }
      ],
      "source": [
        "multiplicacao_array = array_1 * array_2\n",
        "print('subtração array 1 e 2:\\n', multiplicacao_array)\n",
        "\n",
        "# divisão com broadcasting aplicado no array 1\n",
        "print('broadcasting: dividindo o número 2 em todos elementos do array 1:\\n', array_1 * 2)\n",
        "\n",
        "# outra maneira de criar array com a multiplacação em broadcasting\n",
        "5 * np.ones((2,2))"
      ]
    },
    {
      "cell_type": "markdown",
      "metadata": {
        "id": "zR5VM6eOwfvZ"
      },
      "source": [
        "### Multiplicação matricial"
      ]
    },
    {
      "cell_type": "code",
      "execution_count": 24,
      "metadata": {
        "colab": {
          "base_uri": "https://localhost:8080/"
        },
        "id": "ABd1VSV2wiZz",
        "outputId": "a7b9d4a6-505a-4492-fb78-8b0881337854"
      },
      "outputs": [
        {
          "name": "stdout",
          "output_type": "stream",
          "text": [
            "multiplicação matricial usando np.dot\n",
            " [[1. 1.]\n",
            " [1. 1.]]\n",
            "multiplicação matricial usando @\n",
            " [[1. 1.]\n",
            " [1. 1.]]\n",
            "multiplicação matricial usando método .dot\n",
            " [[1. 1.]\n",
            " [1. 1.]]\n"
          ]
        }
      ],
      "source": [
        "# uso da função/método .dot ou @\n",
        "print('multiplicação matricial usando np.dot\\n', np.dot(array_1, array_2))\n",
        "print('multiplicação matricial usando @\\n', array_1 @ array_2)\n",
        "print('multiplicação matricial usando método .dot\\n', array_1.dot(array_2))"
      ]
    },
    {
      "cell_type": "code",
      "execution_count": 36,
      "metadata": {
        "colab": {
          "base_uri": "https://localhost:8080/"
        },
        "id": "fq7C6cwEx60W",
        "outputId": "16d9803e-d907-41e2-a5e6-b6ef37e369e1"
      },
      "outputs": [
        {
          "name": "stdout",
          "output_type": "stream",
          "text": [
            "matriz A:\n",
            " [[ 1  2]\n",
            " [ 3 -2]]\n",
            "vetor c:\n",
            " [[  7]\n",
            " [-11]]\n",
            "solução do sistema de equações:\n",
            " [[-1.]\n",
            " [ 4.]]\n",
            "\n",
            "(a,b):\n",
            " [-1.  4.]\n"
          ]
        }
      ],
      "source": [
        "\"\"\"\n",
        "Exemplo:\n",
        "solução de sistema de equações:\n",
        "   a + 2b = 7\n",
        "  3a - 2b = -11\n",
        "  Solução analítica: (a, b) = (-1, 4)\n",
        "Matricialmente, este problema tem a seguinte forma:\n",
        "  Ax = c, onde:\n",
        "  x = [a, b]\n",
        "  A = [[1, 2], [3, -2]]\n",
        "  c = [7, -11]\n",
        "  Solução numérica: x = inv(A) @ c\n",
        "\"\"\"\n",
        "\n",
        "A = np.array([[1, 2], [3, -2]])\n",
        "c = np.array([[7], [-11]])\n",
        "print('matriz A:\\n', A)\n",
        "print('vetor c:\\n', c)\n",
        "\n",
        "# solução\n",
        "x = np.dot(np.linalg.inv(A), c)\n",
        "# ou poderia ser usado: x = np.linalg.inv(A) @ c\n",
        "print('solução do sistema de equações:\\n', x)\n",
        "print('\\n(a,b):\\n', x.ravel())"
      ]
    }
  ],
  "metadata": {
    "colab": {
      "provenance": []
    },
    "kernelspec": {
      "display_name": "Python 3",
      "name": "python3"
    },
    "language_info": {
      "codemirror_mode": {
        "name": "ipython",
        "version": 3
      },
      "file_extension": ".py",
      "mimetype": "text/x-python",
      "name": "python",
      "nbconvert_exporter": "python",
      "pygments_lexer": "ipython3",
      "version": "3.12.4"
    }
  },
  "nbformat": 4,
  "nbformat_minor": 0
}
